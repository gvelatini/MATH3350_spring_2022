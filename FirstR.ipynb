{
 "cells": [
  {
   "cell_type": "markdown",
   "id": "middle-worker",
   "metadata": {},
   "source": [
    "# Lady Tasting Tea"
   ]
  },
  {
   "cell_type": "markdown",
   "id": "egyptian-boutique",
   "metadata": {},
   "source": [
    "[Lady Tasting Tea Video](https://www.youtube.com/watch?v=lgs7d5saFFc)"
   ]
  },
  {
   "cell_type": "markdown",
   "id": "hollow-mambo",
   "metadata": {},
   "source": [
    "## Probability"
   ]
  },
  {
   "cell_type": "markdown",
   "id": "incorrect-armstrong",
   "metadata": {},
   "source": [
    "### If the lady was guessing, what is the probability that she would guess 8 in a row correctly?"
   ]
  },
  {
   "cell_type": "markdown",
   "id": "vocal-monthly",
   "metadata": {},
   "source": [
    "#### Would knowing this probability allow you to determine whether she was guessing or not? Explain."
   ]
  },
  {
   "cell_type": "markdown",
   "id": "armed-murder",
   "metadata": {},
   "source": [
    "What is the probability of the lady guessing correctly a single time?\n",
    "\n",
    "The probabilty is equal to the number of ways to guess correctly / number of choices.  In this case there is one correct answer and there are 2 outcomes, correct (C) or incorrect (I), tea first or milk first."
   ]
  },
  {
   "cell_type": "markdown",
   "id": "excessive-outside",
   "metadata": {},
   "source": [
    "| outcome|Guess 1|\n",
    "|---|---|\n",
    "|1 |C |\n",
    "|2 |I |\n"
   ]
  },
  {
   "cell_type": "markdown",
   "id": "hairy-algeria",
   "metadata": {},
   "source": [
    "$$P(C) = \\frac{1}{2}$$"
   ]
  },
  {
   "cell_type": "markdown",
   "id": "molecular-dream",
   "metadata": {},
   "source": [
    "What is the probability of the lady guessing correctly a twice?\n",
    "The probabilty is equal to the number of ways to guess correctly / number of choices."
   ]
  },
  {
   "cell_type": "markdown",
   "id": "unknown-grass",
   "metadata": {},
   "source": [
    "| outcome|cup 1 |cup 2 |\n",
    "|---|---|---|\n",
    "|1 |C |C |\n",
    "|2 |C |I |\n",
    "|3 |I |C |\n",
    "|4 |I |I |\n"
   ]
  },
  {
   "cell_type": "markdown",
   "id": "opened-priority",
   "metadata": {},
   "source": [
    "$$P(CC) = \\frac{1}{4}$$"
   ]
  },
  {
   "cell_type": "markdown",
   "id": "national-kansas",
   "metadata": {},
   "source": [
    "What is the probability of the lady guessing correctly a thrice?\n",
    "The probabilty is equal to the number of ways to guess correctly / number of choices."
   ]
  },
  {
   "cell_type": "markdown",
   "id": "legal-richardson",
   "metadata": {},
   "source": [
    "| outcome|cup 1 |cup 2 |cup 3|\n",
    "|---|---|---|---|\n",
    "|1 |C |C |C |\n",
    "|2 |C |I |C |\n",
    "|3 |I |C |C |\n",
    "|4 |I |I |C |\n",
    "|5 |C |C |I |\n",
    "|6 |C |I |I |\n",
    "|7 |I |C |I |\n",
    "|8 |I |I |I |"
   ]
  },
  {
   "cell_type": "markdown",
   "id": "respected-electricity",
   "metadata": {},
   "source": [
    "$$P(CCC) = \\frac{1}{8}$$"
   ]
  },
  {
   "cell_type": "markdown",
   "id": "commercial-color",
   "metadata": {},
   "source": [
    "What is the probabilty of the lady guessing correctly 8 times in a row? \n",
    "\n",
    "Write your answer here. $$P(CCCCCCCC) = \\frac{1}{2^{8}} = \\frac{1}{8}$$"
   ]
  },
  {
   "cell_type": "code",
   "execution_count": 1,
   "id": "separate-marijuana",
   "metadata": {},
   "outputs": [
    {
     "name": "stdout",
     "output_type": "stream",
     "text": [
      "The probabilty of guessing correctly 8 times in a row =  0.00390625 \n",
      "about  0.390625 percent \n"
     ]
    }
   ],
   "source": [
    "#  correct the following lines\n",
    "cat('The probabilty of guessing correctly 8 times in a row = ',1/2^8, '\\n')\n",
    "cat('about ',1/2^8*100,'percent \\n')"
   ]
  },
  {
   "cell_type": "markdown",
   "id": "angry-socket",
   "metadata": {},
   "source": [
    "#### Based on the probability of guessing 8 correctly, do you think the lady was guessing?\n",
    "What if she had guessed 4 in row of instead of 8?"
   ]
  },
  {
   "cell_type": "code",
   "execution_count": 27,
   "id": "impossible-phase",
   "metadata": {},
   "outputs": [
    {
     "name": "stdout",
     "output_type": "stream",
     "text": [
      "The probabilty of guessing correctly 4 times in a row =  6.25 percent \n"
     ]
    }
   ],
   "source": [
    "p4 = 1/2^4*100\n",
    "cat('The probabilty of guessing correctly 4 times in a row = ',p4, 'percent \\n')\n"
   ]
  },
  {
   "cell_type": "markdown",
   "id": "harmful-reduction",
   "metadata": {},
   "source": [
    "Based on the probability of guessing 8 correctly, do you think the lady was guessing?\n",
    "What if she had guessed 2 in row of instead of 8?"
   ]
  },
  {
   "cell_type": "code",
   "execution_count": 28,
   "id": "declared-passion",
   "metadata": {},
   "outputs": [
    {
     "name": "stdout",
     "output_type": "stream",
     "text": [
      "The probabilty of guessing correctly 4 times in a row =  25 percent \n"
     ]
    }
   ],
   "source": [
    "p2 = 1/2^2*100\n",
    "cat('The probabilty of guessing correctly 4 times in a row = ',p2, 'percent \\n')"
   ]
  },
  {
   "cell_type": "markdown",
   "id": "productive-editing",
   "metadata": {},
   "source": [
    "Assume that the only two possibilities are \n",
    "* she was guessing or \n",
    "* she could taste the difference\n",
    "\n",
    "#### Which would you select? How certain are you about your choice?\n"
   ]
  },
  {
   "cell_type": "code",
   "execution_count": null,
   "id": "vital-cabinet",
   "metadata": {},
   "outputs": [],
   "source": [
    "type your answer here"
   ]
  },
  {
   "cell_type": "markdown",
   "id": "electronic-castle",
   "metadata": {},
   "source": [
    "## Simulation"
   ]
  },
  {
   "cell_type": "markdown",
   "id": "communist-advance",
   "metadata": {},
   "source": [
    "### Classroom Simulation"
   ]
  },
  {
   "cell_type": "markdown",
   "id": "spare-plasma",
   "metadata": {},
   "source": [
    "#### You try it. Guess on 8 cups of tea.  Use a 1 for a correct guess and a 0 for an incorrect guess.\n",
    "\n",
    "Let 4 people be tea sommeliers\n",
    "and record results.\n",
    "\n",
    "Since the probabilty of guessing correctly is the same as that of flipping a \"head\" on a coin, flip a coin and count the number of heads.  This will be recorded as the number of correct guesses."
   ]
  },
  {
   "cell_type": "code",
   "execution_count": 2,
   "id": "public-correspondence",
   "metadata": {},
   "outputs": [
    {
     "name": "stdout",
     "output_type": "stream",
     "text": [
      "[1] 0 1 4 4 8 3 0 2 1\n"
     ]
    },
    {
     "data": {
      "image/png": "[encoded data removed]",
      "text/plain": [
       "plot without title"
      ]
     },
     "metadata": {
      "image/png": {
       "height": 420,
       "width": 420
      }
     },
     "output_type": "display_data"
    }
   ],
   "source": [
    "\n",
    "zeros = 0\n",
    "ones = 1\n",
    "twos = 4\n",
    "threes = 4\n",
    "fours = 8\n",
    "fives = 3\n",
    "sixes = 0\n",
    "sevens = 2\n",
    "eights = 1\n",
    "\n",
    "\n",
    "xnames = as.factor(0:8)\n",
    "results  = c(zeros, ones,twos, threes, fours, fives, sixes, sevens, eights)\n",
    "print(results)\n",
    "barplot(results, names.arg = xnames, xlab = 'number correct', ylab = 'count')\n",
    "\n"
   ]
  },
  {
   "cell_type": "markdown",
   "id": "optimum-there",
   "metadata": {},
   "source": [
    "#### How many times were all 8 guessed correctly? "
   ]
  },
  {
   "cell_type": "code",
   "execution_count": 3,
   "id": "chronic-homeless",
   "metadata": {},
   "outputs": [
    {
     "name": "stdout",
     "output_type": "stream",
     "text": [
      "All 8 guessed correctly  1 times. \n",
      "About  4.347826 percent of the time.\n"
     ]
    }
   ],
   "source": [
    "cat('All 8 guessed correctly ', eights, 'times. \\n')\n",
    "pct8 = eights/sum(results)*100\n",
    "cat('About ',pct8,'percent of the time.\\n')"
   ]
  },
  {
   "cell_type": "markdown",
   "id": "greatest-community",
   "metadata": {},
   "source": [
    "Does the observed probability match the computation we made earlier? \n",
    "Why or why not?"
   ]
  },
  {
   "cell_type": "code",
   "execution_count": 101,
   "id": "closing-tiger",
   "metadata": {},
   "outputs": [
    {
     "name": "stdout",
     "output_type": "stream",
     "text": [
      "The theoretical probability of guessing 8 in a row correctly is  0.390625 percent \n"
     ]
    }
   ],
   "source": [
    "cat('The theoretical probability of guessing 8 in a row correctly is ', 100/256, 'percent \\n')"
   ]
  },
  {
   "cell_type": "markdown",
   "id": "liberal-miniature",
   "metadata": {},
   "source": [
    "### Computer Simulation"
   ]
  },
  {
   "cell_type": "markdown",
   "id": "middle-discretion",
   "metadata": {},
   "source": [
    "Fill 8 cups of tea.  Each cup is randomly selected to be filled with either tea first or milk first.\n",
    "after tasting the tea, the taster pronounces either \"tea first\" or \"milk first\". If the taster is correct, a 1 is recorded.  If the taster is incorrect, a 0 is recorded."
   ]
  },
  {
   "cell_type": "code",
   "execution_count": 6,
   "id": "secondary-factory",
   "metadata": {},
   "outputs": [
    {
     "name": "stdout",
     "output_type": "stream",
     "text": [
      "1 1 0 0 0 0 1 0"
     ]
    }
   ],
   "source": [
    "set.seed(123456)\n",
    "tea_or_milk <- round(runif(8, min=0, max=1))\n",
    "cat(tea_or_milk)"
   ]
  },
  {
   "cell_type": "markdown",
   "id": "colonial-advantage",
   "metadata": {},
   "source": [
    "In the example above, cups 1, 2 and 7 were identified correctly."
   ]
  },
  {
   "cell_type": "code",
   "execution_count": 7,
   "id": "invisible-cruise",
   "metadata": {},
   "outputs": [
    {
     "name": "stdout",
     "output_type": "stream",
     "text": [
      "3"
     ]
    }
   ],
   "source": [
    "num_correct <- sum(tea_or_milk)\n",
    "cat(num_correct)"
   ]
  },
  {
   "cell_type": "markdown",
   "id": "other-veteran",
   "metadata": {},
   "source": [
    "Repeat the experiment a few times by running the following cell repeatedly."
   ]
  },
  {
   "cell_type": "code",
   "execution_count": 46,
   "id": "finished-dollar",
   "metadata": {},
   "outputs": [
    {
     "name": "stdout",
     "output_type": "stream",
     "text": [
      "0 1 1 1 1 0 1 1 \n",
      "6"
     ]
    }
   ],
   "source": [
    "tea_or_milk <- round(runif(8, min=0, max=1))\n",
    "cat(tea_or_milk ,'\\n')\n",
    "num_correct <- sum(tea_or_milk)\n",
    "cat(num_correct)"
   ]
  },
  {
   "cell_type": "markdown",
   "id": "abstract-establishment",
   "metadata": {},
   "source": [
    "What do you see?  How many times did you see  8 correct? how many times did you see 7 correct?"
   ]
  },
  {
   "cell_type": "markdown",
   "id": "cooperative-event",
   "metadata": {},
   "source": [
    "Repeat the trial 100 times.  Based on the theoretical probabilty of getting 8 correct, how many times would you expect to see 8 correct out of 100 trials?\n"
   ]
  },
  {
   "cell_type": "markdown",
   "id": "broken-virtue",
   "metadata": {},
   "source": [
    "Type your answer here:\n"
   ]
  },
  {
   "cell_type": "code",
   "execution_count": 52,
   "id": "rural-clinic",
   "metadata": {},
   "outputs": [
    {
     "name": "stdout",
     "output_type": "stream",
     "text": [
      "4 3 5 5 4 3 3 4 3 4 4 3 6 5 5 2 5 4 4 3 4 5 4 3 4 2 2 3 3 5 6 1 3 3 1 3 3 3 2 4 2 4 6 6 5 5 6 2 4 4 3 3 4 4 6 4 5 3 3 6 4 4 7 4 5 3 6 5 6 5 6 5 4 4 5 5 2 6 5 3 3 3 3 3 3 4 4 2 5 4 4 6 6 5 7 2 4 4 3 4 \n",
      "The taster correctly identified all 8 cups in  0  out of the  100  trials \n",
      "The taster correctly identified all 8 cups  0  percent of the time \n"
     ]
    }
   ],
   "source": [
    "num_trials <- 100\n",
    "results <- rep(0,num_trials)\n",
    "\n",
    "for (trial in 1:num_trials){\n",
    "   tea_or_milk <- round(runif(8, min=0, max=1))\n",
    "#     cat(tea_or_milk ,'\\n')\n",
    "    num_correct <- sum(tea_or_milk) \n",
    "    results[trial] <- num_correct\n",
    "}\n",
    "cat(results, '\\n')\n",
    "\n",
    "all_8 <- sum(results == 8)\n",
    "\n",
    "cat('The taster correctly identified all 8 cups in ', all_8, ' out of the ', num_trials,' trials \\n')\n",
    "\n",
    "percentage_all_8 <- all_8 / num_trials * 100\n",
    "\n",
    "cat('The taster correctly identified all 8 cups ', percentage_all_8, ' percent of the time \\n')"
   ]
  },
  {
   "cell_type": "markdown",
   "id": "adjacent-double",
   "metadata": {},
   "source": [
    "Repeat the trial 10000 times.  Based on the theoretical probabilty of getting 8 correct, how many times would you expect to see 8 correct out of 10000 trials?"
   ]
  },
  {
   "cell_type": "markdown",
   "id": "extraordinary-saturn",
   "metadata": {},
   "source": [
    "Type your answer here:"
   ]
  },
  {
   "cell_type": "code",
   "execution_count": 57,
   "id": "revolutionary-diabetes",
   "metadata": {},
   "outputs": [
    {
     "name": "stdout",
     "output_type": "stream",
     "text": [
      "The taster correctly identified all 8 cups in  3850  out of the  1e+06  trials \n",
      "The taster correctly identified all 8 cups  0.385  percent of the time \n"
     ]
    }
   ],
   "source": [
    "num_trials <- 1000000\n",
    "results <- rep(-1.0,num_trials)\n",
    "\n",
    "for (trial in 2:num_trials){\n",
    "   tea_or_milk <- round(runif(8, min=0, max=1))\n",
    "#     cat(tea_or_milk ,'\\n')\n",
    "    num_correct <- sum(tea_or_milk) \n",
    "    results[trial] <- (num_correct)\n",
    "}\n",
    "# cat(results, '\\n')\n",
    "\n",
    "all_8 <- sum(results == 8)\n",
    "\n",
    "cat('The taster correctly identified all 8 cups in ', all_8, ' out of the ', num_trials,' trials \\n')\n",
    "\n",
    "percentage_all_8 <- all_8 / num_trials * 100\n",
    "\n",
    "cat('The taster correctly identified all 8 cups ', percentage_all_8, ' percent of the time \\n')"
   ]
  },
  {
   "cell_type": "markdown",
   "id": "outer-scott",
   "metadata": {},
   "source": [
    "Repeat the experiment 100,000 times by changing num_trials in the cell above\n"
   ]
  },
  {
   "cell_type": "code",
   "execution_count": 54,
   "id": "southwest-cliff",
   "metadata": {},
   "outputs": [
    {
     "data": {
      "text/html": [
       "35"
      ],
      "text/latex": [
       "35"
      ],
      "text/markdown": [
       "35"
      ],
      "text/plain": [
       "[1] 35"
      ]
     },
     "metadata": {},
     "output_type": "display_data"
    }
   ],
   "source": [
    "sum(results == 8)"
   ]
  },
  {
   "cell_type": "code",
   "execution_count": 55,
   "id": "violent-individual",
   "metadata": {},
   "outputs": [
    {
     "data": {
      "image/png": "[encoded data removed]",
      "text/plain": [
       "Plot with title “Number Correct if Guessing”"
      ]
     },
     "metadata": {
      "image/png": {
       "height": 420,
       "width": 420
      }
     },
     "output_type": "display_data"
    }
   ],
   "source": [
    "\n",
    "my_hist <- hist(results,breaks = 9, plot = F)\n",
    "my_color= ifelse(my_hist$breaks >= 7, \"purple\", rgb(0.2,0.2,0.2,0.2) )\n",
    "plot(my_hist, col=my_color , border=F , xlab = 'number correct', main = 'Number Correct if Guessing', xlim = c(-1,8))"
   ]
  },
  {
   "cell_type": "markdown",
   "id": "polyphonic-directive",
   "metadata": {},
   "source": [
    "The area of the purple region relative to the area of the entire plot is proportional to the probability of guessing all 8 correctly.\n",
    "Do you think the plot above suggests that guessing 8 correctly is likely or unlikely?"
   ]
  }
 ],
 "metadata": {
  "kernelspec": {
   "display_name": "R",
   "language": "R",
   "name": "ir"
  },
  "language_info": {
   "codemirror_mode": "r",
   "file_extension": ".r",
   "mimetype": "text/x-r-source",
   "name": "R",
   "pygments_lexer": "r",
   "version": "4.0.3"
  }
 },
 "nbformat": 4,
 "nbformat_minor": 5
}
